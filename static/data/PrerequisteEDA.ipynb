{
 "cells": [
  {
   "cell_type": "code",
   "execution_count": 7,
   "id": "d570fab9",
   "metadata": {},
   "outputs": [],
   "source": [
    "import pandas as pd\n",
    "from datetime import datetime"
   ]
  },
  {
   "cell_type": "code",
   "execution_count": 2,
   "id": "04e76152",
   "metadata": {},
   "outputs": [
    {
     "data": {
      "text/html": [
       "<div>\n",
       "<style scoped>\n",
       "    .dataframe tbody tr th:only-of-type {\n",
       "        vertical-align: middle;\n",
       "    }\n",
       "\n",
       "    .dataframe tbody tr th {\n",
       "        vertical-align: top;\n",
       "    }\n",
       "\n",
       "    .dataframe thead th {\n",
       "        text-align: right;\n",
       "    }\n",
       "</style>\n",
       "<table border=\"1\" class=\"dataframe\">\n",
       "  <thead>\n",
       "    <tr style=\"text-align: right;\">\n",
       "      <th></th>\n",
       "      <th>ts</th>\n",
       "      <th>device</th>\n",
       "      <th>co</th>\n",
       "      <th>humidity</th>\n",
       "      <th>light</th>\n",
       "      <th>lpg</th>\n",
       "      <th>motion</th>\n",
       "      <th>smoke</th>\n",
       "      <th>temp</th>\n",
       "    </tr>\n",
       "  </thead>\n",
       "  <tbody>\n",
       "    <tr>\n",
       "      <th>0</th>\n",
       "      <td>1.594512e+09</td>\n",
       "      <td>b8:27:eb:bf:9d:51</td>\n",
       "      <td>0.004956</td>\n",
       "      <td>51.000000</td>\n",
       "      <td>False</td>\n",
       "      <td>0.007651</td>\n",
       "      <td>False</td>\n",
       "      <td>0.020411</td>\n",
       "      <td>22.700000</td>\n",
       "    </tr>\n",
       "    <tr>\n",
       "      <th>1</th>\n",
       "      <td>1.594512e+09</td>\n",
       "      <td>00:0f:00:70:91:0a</td>\n",
       "      <td>0.002840</td>\n",
       "      <td>76.000000</td>\n",
       "      <td>False</td>\n",
       "      <td>0.005114</td>\n",
       "      <td>False</td>\n",
       "      <td>0.013275</td>\n",
       "      <td>19.700001</td>\n",
       "    </tr>\n",
       "    <tr>\n",
       "      <th>2</th>\n",
       "      <td>1.594512e+09</td>\n",
       "      <td>b8:27:eb:bf:9d:51</td>\n",
       "      <td>0.004976</td>\n",
       "      <td>50.900000</td>\n",
       "      <td>False</td>\n",
       "      <td>0.007673</td>\n",
       "      <td>False</td>\n",
       "      <td>0.020475</td>\n",
       "      <td>22.600000</td>\n",
       "    </tr>\n",
       "    <tr>\n",
       "      <th>3</th>\n",
       "      <td>1.594512e+09</td>\n",
       "      <td>1c:bf:ce:15:ec:4d</td>\n",
       "      <td>0.004403</td>\n",
       "      <td>76.800003</td>\n",
       "      <td>True</td>\n",
       "      <td>0.007023</td>\n",
       "      <td>False</td>\n",
       "      <td>0.018628</td>\n",
       "      <td>27.000000</td>\n",
       "    </tr>\n",
       "    <tr>\n",
       "      <th>4</th>\n",
       "      <td>1.594512e+09</td>\n",
       "      <td>b8:27:eb:bf:9d:51</td>\n",
       "      <td>0.004967</td>\n",
       "      <td>50.900000</td>\n",
       "      <td>False</td>\n",
       "      <td>0.007664</td>\n",
       "      <td>False</td>\n",
       "      <td>0.020448</td>\n",
       "      <td>22.600000</td>\n",
       "    </tr>\n",
       "  </tbody>\n",
       "</table>\n",
       "</div>"
      ],
      "text/plain": [
       "             ts             device        co   humidity  light       lpg  \\\n",
       "0  1.594512e+09  b8:27:eb:bf:9d:51  0.004956  51.000000  False  0.007651   \n",
       "1  1.594512e+09  00:0f:00:70:91:0a  0.002840  76.000000  False  0.005114   \n",
       "2  1.594512e+09  b8:27:eb:bf:9d:51  0.004976  50.900000  False  0.007673   \n",
       "3  1.594512e+09  1c:bf:ce:15:ec:4d  0.004403  76.800003   True  0.007023   \n",
       "4  1.594512e+09  b8:27:eb:bf:9d:51  0.004967  50.900000  False  0.007664   \n",
       "\n",
       "   motion     smoke       temp  \n",
       "0   False  0.020411  22.700000  \n",
       "1   False  0.013275  19.700001  \n",
       "2   False  0.020475  22.600000  \n",
       "3   False  0.018628  27.000000  \n",
       "4   False  0.020448  22.600000  "
      ]
     },
     "execution_count": 2,
     "metadata": {},
     "output_type": "execute_result"
    }
   ],
   "source": [
    "data = pd.read_csv(\"iot_telemetry_data.csv\")\n",
    "data.head(5)"
   ]
  },
  {
   "cell_type": "code",
   "execution_count": 3,
   "id": "4d6407cb",
   "metadata": {},
   "outputs": [
    {
     "data": {
      "text/plain": [
       "ts          0\n",
       "device      0\n",
       "co          0\n",
       "humidity    0\n",
       "light       0\n",
       "lpg         0\n",
       "motion      0\n",
       "smoke       0\n",
       "temp        0\n",
       "dtype: int64"
      ]
     },
     "execution_count": 3,
     "metadata": {},
     "output_type": "execute_result"
    }
   ],
   "source": [
    "data.isnull().sum()"
   ]
  },
  {
   "cell_type": "code",
   "execution_count": 31,
   "id": "c471f360",
   "metadata": {},
   "outputs": [],
   "source": [
    "df = data"
   ]
  },
  {
   "cell_type": "code",
   "execution_count": 32,
   "id": "f47d0e3e",
   "metadata": {},
   "outputs": [
    {
     "data": {
      "text/html": [
       "<div>\n",
       "<style scoped>\n",
       "    .dataframe tbody tr th:only-of-type {\n",
       "        vertical-align: middle;\n",
       "    }\n",
       "\n",
       "    .dataframe tbody tr th {\n",
       "        vertical-align: top;\n",
       "    }\n",
       "\n",
       "    .dataframe thead th {\n",
       "        text-align: right;\n",
       "    }\n",
       "</style>\n",
       "<table border=\"1\" class=\"dataframe\">\n",
       "  <thead>\n",
       "    <tr style=\"text-align: right;\">\n",
       "      <th></th>\n",
       "      <th>ts</th>\n",
       "      <th>device</th>\n",
       "      <th>co</th>\n",
       "      <th>humidity</th>\n",
       "      <th>light</th>\n",
       "      <th>lpg</th>\n",
       "      <th>motion</th>\n",
       "      <th>smoke</th>\n",
       "      <th>temp</th>\n",
       "      <th>datetime</th>\n",
       "    </tr>\n",
       "  </thead>\n",
       "  <tbody>\n",
       "    <tr>\n",
       "      <th>0</th>\n",
       "      <td>1.594512e+09</td>\n",
       "      <td>b8:27:eb:bf:9d:51</td>\n",
       "      <td>0.004956</td>\n",
       "      <td>51.000000</td>\n",
       "      <td>False</td>\n",
       "      <td>0.007651</td>\n",
       "      <td>False</td>\n",
       "      <td>0.020411</td>\n",
       "      <td>22.700000</td>\n",
       "      <td>2020-07-12 00:01:34.385974528</td>\n",
       "    </tr>\n",
       "    <tr>\n",
       "      <th>1</th>\n",
       "      <td>1.594512e+09</td>\n",
       "      <td>00:0f:00:70:91:0a</td>\n",
       "      <td>0.002840</td>\n",
       "      <td>76.000000</td>\n",
       "      <td>False</td>\n",
       "      <td>0.005114</td>\n",
       "      <td>False</td>\n",
       "      <td>0.013275</td>\n",
       "      <td>19.700001</td>\n",
       "      <td>2020-07-12 00:01:34.735567616</td>\n",
       "    </tr>\n",
       "    <tr>\n",
       "      <th>2</th>\n",
       "      <td>1.594512e+09</td>\n",
       "      <td>b8:27:eb:bf:9d:51</td>\n",
       "      <td>0.004976</td>\n",
       "      <td>50.900000</td>\n",
       "      <td>False</td>\n",
       "      <td>0.007673</td>\n",
       "      <td>False</td>\n",
       "      <td>0.020475</td>\n",
       "      <td>22.600000</td>\n",
       "      <td>2020-07-12 00:01:38.073572864</td>\n",
       "    </tr>\n",
       "    <tr>\n",
       "      <th>3</th>\n",
       "      <td>1.594512e+09</td>\n",
       "      <td>1c:bf:ce:15:ec:4d</td>\n",
       "      <td>0.004403</td>\n",
       "      <td>76.800003</td>\n",
       "      <td>True</td>\n",
       "      <td>0.007023</td>\n",
       "      <td>False</td>\n",
       "      <td>0.018628</td>\n",
       "      <td>27.000000</td>\n",
       "      <td>2020-07-12 00:01:39.589145856</td>\n",
       "    </tr>\n",
       "    <tr>\n",
       "      <th>4</th>\n",
       "      <td>1.594512e+09</td>\n",
       "      <td>b8:27:eb:bf:9d:51</td>\n",
       "      <td>0.004967</td>\n",
       "      <td>50.900000</td>\n",
       "      <td>False</td>\n",
       "      <td>0.007664</td>\n",
       "      <td>False</td>\n",
       "      <td>0.020448</td>\n",
       "      <td>22.600000</td>\n",
       "      <td>2020-07-12 00:01:41.761234944</td>\n",
       "    </tr>\n",
       "    <tr>\n",
       "      <th>...</th>\n",
       "      <td>...</td>\n",
       "      <td>...</td>\n",
       "      <td>...</td>\n",
       "      <td>...</td>\n",
       "      <td>...</td>\n",
       "      <td>...</td>\n",
       "      <td>...</td>\n",
       "      <td>...</td>\n",
       "      <td>...</td>\n",
       "      <td>...</td>\n",
       "    </tr>\n",
       "    <tr>\n",
       "      <th>405179</th>\n",
       "      <td>1.595203e+09</td>\n",
       "      <td>00:0f:00:70:91:0a</td>\n",
       "      <td>0.003745</td>\n",
       "      <td>75.300003</td>\n",
       "      <td>False</td>\n",
       "      <td>0.006247</td>\n",
       "      <td>False</td>\n",
       "      <td>0.016437</td>\n",
       "      <td>19.200001</td>\n",
       "      <td>2020-07-20 00:03:33.162014976</td>\n",
       "    </tr>\n",
       "    <tr>\n",
       "      <th>405180</th>\n",
       "      <td>1.595203e+09</td>\n",
       "      <td>b8:27:eb:bf:9d:51</td>\n",
       "      <td>0.005882</td>\n",
       "      <td>48.500000</td>\n",
       "      <td>False</td>\n",
       "      <td>0.008660</td>\n",
       "      <td>False</td>\n",
       "      <td>0.023301</td>\n",
       "      <td>22.200000</td>\n",
       "      <td>2020-07-20 00:03:33.576560640</td>\n",
       "    </tr>\n",
       "    <tr>\n",
       "      <th>405181</th>\n",
       "      <td>1.595203e+09</td>\n",
       "      <td>1c:bf:ce:15:ec:4d</td>\n",
       "      <td>0.004540</td>\n",
       "      <td>75.699997</td>\n",
       "      <td>True</td>\n",
       "      <td>0.007181</td>\n",
       "      <td>False</td>\n",
       "      <td>0.019076</td>\n",
       "      <td>26.600000</td>\n",
       "      <td>2020-07-20 00:03:36.167959296</td>\n",
       "    </tr>\n",
       "    <tr>\n",
       "      <th>405182</th>\n",
       "      <td>1.595203e+09</td>\n",
       "      <td>00:0f:00:70:91:0a</td>\n",
       "      <td>0.003745</td>\n",
       "      <td>75.300003</td>\n",
       "      <td>False</td>\n",
       "      <td>0.006247</td>\n",
       "      <td>False</td>\n",
       "      <td>0.016437</td>\n",
       "      <td>19.200001</td>\n",
       "      <td>2020-07-20 00:03:36.979521536</td>\n",
       "    </tr>\n",
       "    <tr>\n",
       "      <th>405183</th>\n",
       "      <td>1.595203e+09</td>\n",
       "      <td>b8:27:eb:bf:9d:51</td>\n",
       "      <td>0.005914</td>\n",
       "      <td>48.400000</td>\n",
       "      <td>False</td>\n",
       "      <td>0.008695</td>\n",
       "      <td>False</td>\n",
       "      <td>0.023400</td>\n",
       "      <td>22.200000</td>\n",
       "      <td>2020-07-20 00:03:37.264312576</td>\n",
       "    </tr>\n",
       "  </tbody>\n",
       "</table>\n",
       "<p>405184 rows × 10 columns</p>\n",
       "</div>"
      ],
      "text/plain": [
       "                  ts             device        co   humidity  light       lpg  \\\n",
       "0       1.594512e+09  b8:27:eb:bf:9d:51  0.004956  51.000000  False  0.007651   \n",
       "1       1.594512e+09  00:0f:00:70:91:0a  0.002840  76.000000  False  0.005114   \n",
       "2       1.594512e+09  b8:27:eb:bf:9d:51  0.004976  50.900000  False  0.007673   \n",
       "3       1.594512e+09  1c:bf:ce:15:ec:4d  0.004403  76.800003   True  0.007023   \n",
       "4       1.594512e+09  b8:27:eb:bf:9d:51  0.004967  50.900000  False  0.007664   \n",
       "...              ...                ...       ...        ...    ...       ...   \n",
       "405179  1.595203e+09  00:0f:00:70:91:0a  0.003745  75.300003  False  0.006247   \n",
       "405180  1.595203e+09  b8:27:eb:bf:9d:51  0.005882  48.500000  False  0.008660   \n",
       "405181  1.595203e+09  1c:bf:ce:15:ec:4d  0.004540  75.699997   True  0.007181   \n",
       "405182  1.595203e+09  00:0f:00:70:91:0a  0.003745  75.300003  False  0.006247   \n",
       "405183  1.595203e+09  b8:27:eb:bf:9d:51  0.005914  48.400000  False  0.008695   \n",
       "\n",
       "        motion     smoke       temp                      datetime  \n",
       "0        False  0.020411  22.700000 2020-07-12 00:01:34.385974528  \n",
       "1        False  0.013275  19.700001 2020-07-12 00:01:34.735567616  \n",
       "2        False  0.020475  22.600000 2020-07-12 00:01:38.073572864  \n",
       "3        False  0.018628  27.000000 2020-07-12 00:01:39.589145856  \n",
       "4        False  0.020448  22.600000 2020-07-12 00:01:41.761234944  \n",
       "...        ...       ...        ...                           ...  \n",
       "405179   False  0.016437  19.200001 2020-07-20 00:03:33.162014976  \n",
       "405180   False  0.023301  22.200000 2020-07-20 00:03:33.576560640  \n",
       "405181   False  0.019076  26.600000 2020-07-20 00:03:36.167959296  \n",
       "405182   False  0.016437  19.200001 2020-07-20 00:03:36.979521536  \n",
       "405183   False  0.023400  22.200000 2020-07-20 00:03:37.264312576  \n",
       "\n",
       "[405184 rows x 10 columns]"
      ]
     },
     "metadata": {},
     "output_type": "display_data"
    }
   ],
   "source": [
    "# unit='s' to convert it into epoch time\n",
    "df['datetime'] = pd.to_datetime(df['ts'], \n",
    "                                  unit='s')\n",
    "  \n",
    "# checking our dataframe once again\n",
    "display(df)"
   ]
  },
  {
   "cell_type": "code",
   "execution_count": 34,
   "id": "586fc5bd",
   "metadata": {},
   "outputs": [
    {
     "data": {
      "text/plain": [
       "array(['b8:27:eb:bf:9d:51', '00:0f:00:70:91:0a', '1c:bf:ce:15:ec:4d'],\n",
       "      dtype=object)"
      ]
     },
     "execution_count": 34,
     "metadata": {},
     "output_type": "execute_result"
    }
   ],
   "source": [
    "# There are 3 device id's with 7 columns hence 21 sensors\n",
    "df['device'].unique()"
   ]
  },
  {
   "cell_type": "code",
   "execution_count": 42,
   "id": "b30faa6f",
   "metadata": {},
   "outputs": [],
   "source": [
    "grouped = df.groupby('device')"
   ]
  },
  {
   "cell_type": "code",
   "execution_count": 43,
   "id": "d4fe1fdf",
   "metadata": {},
   "outputs": [
    {
     "name": "stdout",
     "output_type": "stream",
     "text": [
      "00:0f:00:70:91:0a\n",
      "1c:bf:ce:15:ec:4d\n",
      "b8:27:eb:bf:9d:51\n"
     ]
    }
   ],
   "source": [
    "for name, group in grouped:\n",
    "    print(name)"
   ]
  },
  {
   "cell_type": "code",
   "execution_count": 61,
   "id": "8d516e4c",
   "metadata": {},
   "outputs": [],
   "source": [
    "site1 = grouped.get_group('00:0f:00:70:91:0a')"
   ]
  },
  {
   "cell_type": "code",
   "execution_count": 62,
   "id": "c4b8259d",
   "metadata": {},
   "outputs": [],
   "source": [
    "site2 = grouped.get_group('1c:bf:ce:15:ec:4d')"
   ]
  },
  {
   "cell_type": "code",
   "execution_count": 63,
   "id": "04580e41",
   "metadata": {},
   "outputs": [],
   "source": [
    "site3 = grouped.get_group('b8:27:eb:bf:9d:51')"
   ]
  },
  {
   "cell_type": "code",
   "execution_count": 67,
   "id": "663e5b57",
   "metadata": {},
   "outputs": [
    {
     "name": "stdout",
     "output_type": "stream",
     "text": [
      "0.0144201053045069\n",
      "0.0011705085484379\n"
     ]
    }
   ],
   "source": [
    "print(site1['co'].max())\n",
    "print(site1['co'].min())"
   ]
  },
  {
   "cell_type": "code",
   "execution_count": null,
   "id": "1d1cab49",
   "metadata": {},
   "outputs": [],
   "source": []
  }
 ],
 "metadata": {
  "kernelspec": {
   "display_name": "Python 3 (ipykernel)",
   "language": "python",
   "name": "python3"
  },
  "language_info": {
   "codemirror_mode": {
    "name": "ipython",
    "version": 3
   },
   "file_extension": ".py",
   "mimetype": "text/x-python",
   "name": "python",
   "nbconvert_exporter": "python",
   "pygments_lexer": "ipython3",
   "version": "3.9.12"
  }
 },
 "nbformat": 4,
 "nbformat_minor": 5
}
